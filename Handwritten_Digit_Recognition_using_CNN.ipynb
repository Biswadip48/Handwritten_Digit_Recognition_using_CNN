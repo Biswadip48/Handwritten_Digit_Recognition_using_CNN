{
 "cells": [
  {
   "cell_type": "code",
   "execution_count": null,
   "id": "d62a9ad8",
   "metadata": {},
   "outputs": [],
   "source": [
    "def screen_capture():\n",
    "    import pyscreenshot as ImageGrab #pip install pyscreenshot\n",
    "    import time\n",
    " \n",
    "    images_folder = \"captured_images/0/\"\n",
    "    #images_folder = \"new_images/\"\n",
    " \n",
    "    for i in range(5):\n",
    "        time.sleep(5)\n",
    "        im = ImageGrab.grab(bbox=(60, 170, 400, 550)) # X1,Y1,X2,Y2\n",
    "        print (\"saved....\",i)\n",
    "        im.save(images_folder+str(i)+'.png')\n",
    "        print (\"clear screen now and redraw again...\")\n",
    "#screen_capture()"
   ]
  },
  {
   "cell_type": "code",
   "execution_count": 58,
   "id": "1c96c65b",
   "metadata": {},
   "outputs": [],
   "source": [
    "import numpy as np\n",
    " \n",
    "def create_label(image_name):\n",
    "    \"\"\" Create an one-hot encoded vector from image name \"\"\"\n",
    "    if image_name == '0':  \n",
    "        return np.array([1,0,0,0,0,0,0,0,0,0])\n",
    "    elif image_name == '1':\n",
    "        return np.array([0,1,0,0,0,0,0,0,0,0])\n",
    "    elif image_name == '2':\n",
    "        return np.array([0,0,1,0,0,0,0,0,0,0])\n",
    "    elif image_name == '3':\n",
    "        return np.array([0,0,0,1,0,0,0,0,0,0])\n",
    "    elif image_name == '4':\n",
    "        return np.array([0,0,0,0,1,0,0,0,0,0])\n",
    "    elif image_name == '5':\n",
    "        return np.array([0,0,0,0,0,1,0,0,0,0])\n",
    "    elif image_name == '6':\n",
    "        return np.array([0,0,0,0,0,0,1,0,0,0])\n",
    "    elif image_name == '7':\n",
    "        return np.array([0,0,0,0,0,0,0,1,0,0])\n",
    "    elif image_name == '8':\n",
    "        return np.array([0,0,0,0,0,0,0,0,1,0])\n",
    "    elif image_name == '9':\n",
    "        return np.array([0,0,0,0,0,0,0,0,0,1])"
   ]
  },
  {
   "cell_type": "code",
   "execution_count": 59,
   "id": "b5825a82",
   "metadata": {},
   "outputs": [],
   "source": [
    "import os\n",
    "import cv2\n",
    "from random import shuffle\n",
    "from tqdm import tqdm\n",
    " \n",
    "def create_data():\n",
    "    size =375\n",
    "    data = []\n",
    "    for folder in tqdm(os.listdir(\"C:\\\\Users\\\\sdey7\\\\Python Programs\\\\capture_image\")):\n",
    "        for img in os.listdir(\"C:\\\\Users\\\\sdey7\\\\Python Programs\\\\capture_image\\\\\"+folder):\n",
    "            path = os.path.join(\"C:\\\\Users\\\\sdey7\\\\Python Programs\\\\capture_image\",folder, img)\n",
    "            img_data = cv2.imread(path, cv2.IMREAD_GRAYSCALE)\n",
    "            try:\n",
    "                img_data = cv2.resize(img_data,(28,28))\n",
    "            except cv2.error as e:\n",
    "                continue\n",
    "            data.append([np.array(img_data), create_label(folder)])\n",
    "    shuffle(data)\n",
    "    return data"
   ]
  },
  {
   "cell_type": "code",
   "execution_count": 60,
   "id": "0fea594e",
   "metadata": {},
   "outputs": [
    {
     "name": "stderr",
     "output_type": "stream",
     "text": [
      "100%|██████████████████████████████████████████████████████████████████████████████████| 10/10 [00:02<00:00,  4.68it/s]\n"
     ]
    }
   ],
   "source": [
    "data = create_data()"
   ]
  },
  {
   "cell_type": "code",
   "execution_count": 61,
   "id": "c443779e",
   "metadata": {},
   "outputs": [],
   "source": [
    "train = data[:800]\n",
    "test = data[800:]\n",
    "X_train = np.array([i[0] for i in train]).reshape(-1, 28,28, 1)\n",
    "y_train = [i[1] for i in train]\n",
    "X_test = np.array([i[0] for i in test]).reshape(-1, 28,28, 1)\n",
    "y_test = [i[1] for i in test]"
   ]
  },
  {
   "cell_type": "code",
   "execution_count": 62,
   "id": "4a86e478",
   "metadata": {},
   "outputs": [],
   "source": [
    "import warnings\n",
    "warnings.filterwarnings('ignore')\n",
    " \n",
    "import tensorflow as tf\n",
    "from tensorflow.keras.layers import Dense,Dropout,Conv2D,MaxPooling2D,Flatten,BatchNormalization\n",
    "from tensorflow.keras.models import Sequential"
   ]
  },
  {
   "cell_type": "code",
   "execution_count": 63,
   "id": "822ad2ab-a851-4f97-956d-faaca0195751",
   "metadata": {},
   "outputs": [],
   "source": [
    "from tensorflow.python.util.nest import is_sequence_or_composite\n",
    "import numpy as np\n",
    "import tflearn\n",
    "from tflearn.layers.conv import conv_2d, max_pool_2d\n",
    "from tflearn.layers.core import input_data, dropout, fully_connected\n",
    "from tflearn.layers.estimator import regression"
   ]
  },
  {
   "cell_type": "code",
   "execution_count": 65,
   "id": "7a0658cf",
   "metadata": {},
   "outputs": [
    {
     "name": "stdout",
     "output_type": "stream",
     "text": [
      "Training Step: 155  | total loss: \u001b[1m\u001b[32m0.35180\u001b[0m\u001b[0m | time: 0.480s\n",
      "| Adam | epoch: 012 | loss: 0.35180 - acc: 0.9224 -- iter: 768/800\n",
      "Training Step: 156  | total loss: \u001b[1m\u001b[32m0.34723\u001b[0m\u001b[0m | time: 1.537s\n",
      "| Adam | epoch: 012 | loss: 0.34723 - acc: 0.9176 | val_loss: 0.43277 - val_acc: 0.8850 -- iter: 800/800\n",
      "--\n"
     ]
    }
   ],
   "source": [
    "tf.compat.v1.reset_default_graph()\n",
    "convnet = input_data(shape=[28,28, 1], name='input') \n",
    "convnet = conv_2d(convnet, 32, 5, activation='relu')\n",
    "convnet = max_pool_2d(convnet, 5)\n",
    "convnet = conv_2d(convnet, 64, 5, activation='relu')\n",
    "convnet = max_pool_2d(convnet, 5)\n",
    "convnet = conv_2d(convnet, 128, 5, activation='relu')\n",
    "convnet = max_pool_2d(convnet, 5)\n",
    "convnet = conv_2d(convnet, 64, 5, activation='relu')\n",
    "convnet = max_pool_2d(convnet, 5)\n",
    "convnet = conv_2d(convnet, 32, 5, activation='relu')\n",
    "convnet = max_pool_2d(convnet, 5)\n",
    "convnet = fully_connected(convnet, 1024, activation='relu')\n",
    "convnet = dropout(convnet, 0.2) #prevent a model from overfitting\n",
    "convnet = fully_connected(convnet, 10, activation='softmax')\n",
    "convnet = regression(convnet, optimizer='adam', learning_rate=0.001, loss='categorical_crossentropy', name='targets')  \n",
    "model = tflearn.DNN(convnet, tensorboard_verbose=1)  \n",
    "model.fit({'input': X_train}, {'targets': y_train}, n_epoch=12,\n",
    "          validation_set=({'input': X_test}, {'targets': y_test}),\n",
    "          show_metric=True)"
   ]
  },
  {
   "cell_type": "code",
   "execution_count": 35,
   "id": "8231678e",
   "metadata": {},
   "outputs": [
    {
     "name": "stdout",
     "output_type": "stream",
     "text": [
      "saved.... 0\n",
      "clear screen now and redraw again...\n",
      "saved.... 1\n",
      "clear screen now and redraw again...\n",
      "saved.... 2\n",
      "clear screen now and redraw again...\n",
      "saved.... 3\n",
      "clear screen now and redraw again...\n",
      "saved.... 4\n",
      "clear screen now and redraw again...\n",
      "saved.... 5\n",
      "clear screen now and redraw again...\n",
      "saved.... 6\n",
      "clear screen now and redraw again...\n",
      "saved.... 7\n",
      "clear screen now and redraw again...\n",
      "saved.... 8\n",
      "clear screen now and redraw again...\n",
      "saved.... 9\n",
      "clear screen now and redraw again...\n"
     ]
    }
   ],
   "source": [
    "def screen_capture():\n",
    "    import pyscreenshot as ImageGrab\n",
    "    import time\n",
    " \n",
    "    images_folder = \"new_images\\\\\"\n",
    " \n",
    "    for i in range(10):\n",
    "        time.sleep(12)\n",
    "        im = ImageGrab.grab(bbox=(200,415,870,790)) # X1,Y1,X2,Y2\n",
    "        print (\"saved....\",i)\n",
    "        im.save(images_folder+str(i)+'.png')\n",
    "        print (\"clear screen now and redraw again...\")\n",
    "screen_capture()"
   ]
  },
  {
   "cell_type": "code",
   "execution_count": 66,
   "id": "c6638520-313d-436d-8e29-2e0b2c84a2e5",
   "metadata": {},
   "outputs": [],
   "source": [
    "def create_test_data():\n",
    "    data = []\n",
    "    for img in tqdm(os.listdir(\"new_images\")):\n",
    "        path = os.path.join(\"new_images\", img)\n",
    "        img_num = img.split('.')[0] \n",
    "        img_data = cv2.imread(path, cv2.IMREAD_GRAYSCALE)\n",
    "        try:\n",
    "            img_data = cv2.resize(img_data, (28,28))\n",
    "        except cv2.error as e:\n",
    "            continue\n",
    "        data.append([np.array(img_data), img_num])\n",
    " \n",
    "    shuffle(data)\n",
    "    return data"
   ]
  },
  {
   "cell_type": "code",
   "execution_count": 67,
   "id": "a78e627c-e086-4e1c-9a10-7dd69777a66d",
   "metadata": {},
   "outputs": [
    {
     "name": "stderr",
     "output_type": "stream",
     "text": [
      "100%|█████████████████████████████████████████████████████████████████████████████████| 11/11 [00:00<00:00, 144.85it/s]\n"
     ]
    }
   ],
   "source": [
    "test_data = create_test_data()"
   ]
  },
  {
   "cell_type": "code",
   "execution_count": 69,
   "id": "46f2dfed-23da-4ef5-b78b-3d512b07d43e",
   "metadata": {},
   "outputs": [
    {
     "data": {
      "image/png": "[encoded data removed]",
      "text/plain": [
       "<Figure size 1000x1000 with 10 Axes>"
      ]
     },
     "metadata": {},
     "output_type": "display_data"
    }
   ],
   "source": [
    "import matplotlib.pyplot as plt\n",
    " \n",
    "fig = plt.figure(figsize=(10,10))\n",
    "for num, data in enumerate(test_data[:10]):\n",
    "    img_data = data[0]\n",
    "    y = fig.add_subplot(5,5, num + 1)\n",
    "    orig = img_data\n",
    "    data = img_data.reshape(28,28, 1)\n",
    "    model_out = model.predict([data])\n",
    "    str_label = \"Prediction: \" + str(np.argmax(model_out))\n",
    " \n",
    "    y.imshow(orig, cmap='gray')\n",
    "    plt.title(str_label)\n",
    "    y.axes.get_xaxis().set_visible(False)\n",
    "    y.axes.get_yaxis().set_visible(False)\n",
    "plt.show()"
   ]
  },
  {
   "cell_type": "code",
   "execution_count": null,
   "id": "c3bad080-fc96-4d07-a1ee-8969338128a3",
   "metadata": {},
   "outputs": [],
   "source": []
  },
  {
   "cell_type": "code",
   "execution_count": null,
   "id": "4d9fa44c-0c15-4d68-a73d-8bce0bce1992",
   "metadata": {},
   "outputs": [],
   "source": []
  },
  {
   "cell_type": "code",
   "execution_count": null,
   "id": "dcd06255-d736-4f4c-94ed-105dfb7f1222",
   "metadata": {},
   "outputs": [],
   "source": []
  }
 ],
 "metadata": {
  "kernelspec": {
   "display_name": "Python 3 (ipykernel)",
   "language": "python",
   "name": "python3"
  },
  "language_info": {
   "codemirror_mode": {
    "name": "ipython",
    "version": 3
   },
   "file_extension": ".py",
   "mimetype": "text/x-python",
   "name": "python",
   "nbconvert_exporter": "python",
   "pygments_lexer": "ipython3",
   "version": "3.11.7"
  }
 },
 "nbformat": 4,
 "nbformat_minor": 5
}
